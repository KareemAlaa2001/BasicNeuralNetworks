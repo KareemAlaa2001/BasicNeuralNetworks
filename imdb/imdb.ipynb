{
 "cells": [
  {
   "cell_type": "markdown",
   "metadata": {},
   "source": [
    "This model makes use of the imdb database to predict whether a movie review is positive or negative. This is a classic example of a binary classification problem. It is inspired by the imdb model in Chapter 3 of the book Deep Learning with Python by Francois Chollet"
   ]
  },
  {
   "cell_type": "code",
   "execution_count": 4,
   "metadata": {},
   "outputs": [],
   "source": [
    "from keras.datasets import imdb\n",
    "\n",
    "# loading the data into training and test data variables\n",
    "\n",
    "# num_words=10000 means that I'm keeping the 10000 most commonly occuring words, removing rarer words\n",
    "(train_data, train_labels), (test_data, test_labels) = imdb.load_data(num_words=10000)"
   ]
  },
  {
   "cell_type": "markdown",
   "metadata": {},
   "source": [
    "The data can't be processed as lists of integers, it must first be converted into a single tensor. This will be done by encoding the integer sequences into a binary matrix.\n"
   ]
  },
  {
   "cell_type": "code",
   "execution_count": 9,
   "metadata": {},
   "outputs": [],
   "source": [
    "import numpy as np\n",
    "\n",
    "# takes a list of sequences then turns it into a single matrix, where each vector in the matrix represents its corresponding list \n",
    "# with zeroes in all indicies except for 1s in the indices for the numbers in the list\n",
    "def vectorize_sequences(sequences, dimension=10000):\n",
    "    \n",
    "    results = np.zeros((len(sequences),dimension))\n",
    "    \n",
    "    for i, seq in enumerate(sequences):\n",
    "        results[i, seq] = 1\n",
    "    return results\n",
    "\n",
    "x_train = vectorize_sequences(train_data)\n",
    "x_test = vectorize_sequences(test_data)"
   ]
  },
  {
   "cell_type": "code",
   "execution_count": 15,
   "metadata": {},
   "outputs": [],
   "source": [
    "# vectorizing labels\n",
    "\n",
    "y_train = np.asarray(train_labels).astype('float32')\n",
    "y_test = np.asarray(test_labels).astype('float32')"
   ]
  },
  {
   "cell_type": "markdown",
   "metadata": {},
   "source": [
    "The input data is vectors, and the labels are scalars (1s and 0s): this is the easiest setup you’ll ever encounter.\n",
    "A  type  of  network  that  performs  well  on  such  a  problem  is a simple  stack  of  fully  connected  (Dense)  layers  with  relu  activations."
   ]
  },
  {
   "cell_type": "code",
   "execution_count": 11,
   "metadata": {},
   "outputs": [],
   "source": [
    "from keras import layers\n",
    "from keras import models\n",
    "\n",
    "# building up the model to have the smae simple structure\n",
    "\n",
    "model = models.Sequential()\n",
    "model.add(layers.Dense(16, activation='relu', input_shape=(10000,)))\n",
    "model.add(layers.Dense(16, activation='relu'))\n",
    "model.add(layers.Dense(1, activation='sigmoid'))"
   ]
  },
  {
   "cell_type": "code",
   "execution_count": 17,
   "metadata": {},
   "outputs": [],
   "source": [
    "# isalating a validation data sample from the training data\n",
    "\n",
    "x_val = x_train[:10000]\n",
    "x_train_part = x_train[10000:]\n",
    "y_val = y_train[:10000]\n",
    "y_train_part = y_train[10000:]"
   ]
  },
  {
   "cell_type": "code",
   "execution_count": 28,
   "metadata": {},
   "outputs": [
    {
     "name": "stdout",
     "output_type": "stream",
     "text": [
      "Train on 15000 samples, validate on 10000 samples\n",
      "Epoch 1/20\n",
      "15000/15000 [==============================] - 3s 211us/step - loss: 0.0013 - acc: 0.9997 - val_loss: 1.3795 - val_acc: 0.8599\n",
      "Epoch 2/20\n",
      "15000/15000 [==============================] - 3s 189us/step - loss: 1.5756e-05 - acc: 1.0000 - val_loss: 1.3817 - val_acc: 0.8601\n",
      "Epoch 3/20\n",
      "15000/15000 [==============================] - 3s 188us/step - loss: 1.1396e-05 - acc: 1.0000 - val_loss: 1.3999 - val_acc: 0.8604\n",
      "Epoch 4/20\n",
      "15000/15000 [==============================] - 3s 191us/step - loss: 8.6693e-06 - acc: 1.0000 - val_loss: 1.4324 - val_acc: 0.8594\n",
      "Epoch 5/20\n",
      "15000/15000 [==============================] - 3s 188us/step - loss: 0.0014 - acc: 0.9996 - val_loss: 1.5309 - val_acc: 0.8524\n",
      "Epoch 6/20\n",
      "15000/15000 [==============================] - 3s 193us/step - loss: 1.1056e-05 - acc: 1.0000 - val_loss: 1.5091 - val_acc: 0.8590\n",
      "Epoch 7/20\n",
      "15000/15000 [==============================] - 3s 188us/step - loss: 5.5403e-06 - acc: 1.0000 - val_loss: 1.5152 - val_acc: 0.8590\n",
      "Epoch 8/20\n",
      "15000/15000 [==============================] - 3s 188us/step - loss: 4.2395e-06 - acc: 1.0000 - val_loss: 1.5256 - val_acc: 0.8593\n",
      "Epoch 9/20\n",
      "15000/15000 [==============================] - 3s 190us/step - loss: 3.4018e-06 - acc: 1.0000 - val_loss: 1.5512 - val_acc: 0.8588\n",
      "Epoch 10/20\n",
      "15000/15000 [==============================] - 3s 192us/step - loss: 2.5340e-06 - acc: 1.0000 - val_loss: 1.5941 - val_acc: 0.8587\n",
      "Epoch 11/20\n",
      "15000/15000 [==============================] - 3s 203us/step - loss: 0.0019 - acc: 0.9997 - val_loss: 1.6596 - val_acc: 0.8578\n",
      "Epoch 12/20\n",
      "15000/15000 [==============================] - 3s 188us/step - loss: 2.8034e-06 - acc: 1.0000 - val_loss: 1.6256 - val_acc: 0.8590\n",
      "Epoch 13/20\n",
      "15000/15000 [==============================] - 3s 188us/step - loss: 1.7429e-06 - acc: 1.0000 - val_loss: 1.6282 - val_acc: 0.8591\n",
      "Epoch 14/20\n",
      "15000/15000 [==============================] - 3s 189us/step - loss: 1.3910e-06 - acc: 1.0000 - val_loss: 1.6375 - val_acc: 0.8591\n",
      "Epoch 15/20\n",
      "15000/15000 [==============================] - 3s 194us/step - loss: 1.1693e-06 - acc: 1.0000 - val_loss: 1.6531 - val_acc: 0.8591\n",
      "Epoch 16/20\n",
      "15000/15000 [==============================] - 3s 188us/step - loss: 9.5299e-07 - acc: 1.0000 - val_loss: 1.6718 - val_acc: 0.8593\n",
      "Epoch 17/20\n",
      "15000/15000 [==============================] - 3s 189us/step - loss: 7.0416e-07 - acc: 1.0000 - val_loss: 1.7263 - val_acc: 0.8588\n",
      "Epoch 18/20\n",
      "15000/15000 [==============================] - 3s 188us/step - loss: 0.0012 - acc: 0.9996 - val_loss: 1.7780 - val_acc: 0.8584\n",
      "Epoch 19/20\n",
      "15000/15000 [==============================] - 3s 189us/step - loss: 3.9202e-07 - acc: 1.0000 - val_loss: 1.7801 - val_acc: 0.8587\n",
      "Epoch 20/20\n",
      "15000/15000 [==============================] - 3s 199us/step - loss: 3.5544e-07 - acc: 1.0000 - val_loss: 1.7836 - val_acc: 0.8587\n"
     ]
    }
   ],
   "source": [
    "# compiling the model with a binary crossentropy loss function and rmsprop optimizer and accuracy as the only metric\n",
    "# training the data while making use of the validation section of the data\n",
    "\n",
    "model.compile(optimizer='rmsprop', loss='binary_crossentropy', metrics=['acc'])\n",
    "\n",
    "# history object is returned from the call to model.fit(), which has data about what happened through its member history\n",
    "\n",
    "history = model.fit(x_train_part, y_train_part, epochs=20,batch_size=512,validation_data=(x_val,y_val))"
   ]
  },
  {
   "cell_type": "code",
   "execution_count": 30,
   "metadata": {},
   "outputs": [
    {
     "data": {
      "image/png": "[encoded data removed]",
      "text/plain": [
       "<Figure size 432x288 with 1 Axes>"
      ]
     },
     "metadata": {
      "needs_background": "light"
     },
     "output_type": "display_data"
    }
   ],
   "source": [
    "# plotting the training and validation losses\n",
    "\n",
    "import matplotlib.pyplot as plt\n",
    "\n",
    "history_dict = history.history\n",
    "loss_values = history_dict['loss']\n",
    "val_loss_values = history_dict['val_loss']\n",
    "\n",
    "epochs = range(1, len(loss_values) + 1)\n",
    "\n",
    "# bo is for blue dot graphs. Plotting loss values against epochs\n",
    "plt.plot(epochs, loss_values, 'bo', label='Training loss')\n",
    "\n",
    "# b is for a solid blue line\n",
    "plt.plot(epochs, val_loss_values, 'b', label='Validation loss')\n",
    "\n",
    "plt.title('Training and validation loss')\n",
    "plt.xlabel('Epochs')\n",
    "plt.ylabel('Loss')\n",
    "plt.legend()\n",
    "\n",
    "plt.show()"
   ]
  },
  {
   "cell_type": "code",
   "execution_count": 31,
   "metadata": {},
   "outputs": [
    {
     "data": {
      "image/png": "[encoded data removed]",
      "text/plain": [
       "<Figure size 432x288 with 1 Axes>"
      ]
     },
     "metadata": {
      "needs_background": "light"
     },
     "output_type": "display_data"
    }
   ],
   "source": [
    "# plotting accuracy values for training and validation data against epochs. \n",
    "\n",
    "plt.clf()\n",
    "acc_values = history_dict['acc']\n",
    "val_acc_values = history_dict['val_acc']\n",
    "plt.plot(epochs, acc_values, 'bo', label='Training acc')\n",
    "plt.plot(epochs, val_acc_values, 'b', label='Validation acc')\n",
    "plt.title('Training and validation accuracy')\n",
    "plt.xlabel('Epochs')\n",
    "plt.ylabel('Loss')\n",
    "plt.legend()\n",
    "plt.show()"
   ]
  },
  {
   "cell_type": "markdown",
   "metadata": {},
   "source": [
    "Apparently, the high number of epochs causes overfitting of the data. Naively reducing the number of epochs to 4 should improve the accuracy to 88%. (lowkey lazy to write it out)"
   ]
  }
 ],
 "metadata": {
  "kernelspec": {
   "display_name": "Python 3",
   "language": "python",
   "name": "python3"
  },
  "language_info": {
   "codemirror_mode": {
    "name": "ipython",
    "version": 3
   },
   "file_extension": ".py",
   "mimetype": "text/x-python",
   "name": "python",
   "nbconvert_exporter": "python",
   "pygments_lexer": "ipython3",
   "version": "3.7.7"
  }
 },
 "nbformat": 4,
 "nbformat_minor": 4
}
